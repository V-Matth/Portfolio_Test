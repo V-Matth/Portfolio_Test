{
 "cells": [
  {
   "cell_type": "markdown",
   "id": "9f025cc0-266b-4726-9ef0-60ea86fd0b9d",
   "metadata": {},
   "source": [
    "<div style=\"display: flex; background-color: skyblue;\" >\n",
    "<h1 style=\"margin: auto; padding: 30px; \"> P12 -NB2-APPLI-  \n",
    "    - Détection de faux billets – Projet de modélisation</h1></div>"
   ]
  },
  {
   "cell_type": "markdown",
   "id": "33244a79-e0d9-425f-b42e-0fb99f050677",
   "metadata": {},
   "source": [
    "**Vérification de l'environnement :**"
   ]
  },
  {
   "cell_type": "code",
   "execution_count": 42,
   "id": "52b72bb3-609b-4379-b345-5fe83fecdfc6",
   "metadata": {},
   "outputs": [
    {
     "name": "stdout",
     "output_type": "stream",
     "text": [
      "D:\\Programmes2\\Anaconda3\\python.exe\n",
      "C:\\Users\\matth\\AppData\\Local\\Programs\\Python\\Python310\\python.exe\n",
      "C:\\Users\\matth\\AppData\\Local\\Microsoft\\WindowsApps\\python.exe\n"
     ]
    }
   ],
   "source": [
    "!where python"
   ]
  },
  {
   "cell_type": "markdown",
   "id": "cab32655-b7b9-430d-93b4-7610220ee1cc",
   "metadata": {},
   "source": [
    "<u>**Remarque :**</u>  \n",
    "Pour des raisons de lisibilité des parties ont été masquées.\n",
    "Elles peuvent être démasquées directement sur le Notebook .ipynb"
   ]
  },
  {
   "cell_type": "markdown",
   "id": "1fc53d6b-6010-4d95-beb9-394d6de6755e",
   "metadata": {},
   "source": [
    "**CE NOTEBOOK EST LA PARTIE APPLICATION DU PROJET**"
   ]
  },
  {
   "cell_type": "markdown",
   "id": "a03ffccd-3a96-41bf-93f4-fbca4e4f6e2d",
   "metadata": {},
   "source": [
    "##### <font color='blue'><u>**SUJET :**</u></font>  \n",
    "- **Projet 12, dans le cadre de la formation Data Analyst de OpenClassRooms**\n",
    "- **Enoncé du projet :** https://openclassrooms.com/fr/paths/804/projects/1584\n",
    "- **Objectifs pédagogiques :**  \n",
    "      . Utiliser un modèle d'apprentissage supervisé pour réaliser une prédiction d'un phénomène  \n",
    "      . Entraîner un modèle d'apprentissage non supervisé pour exploiter le modèle"
   ]
  },
  {
   "cell_type": "markdown",
   "id": "a4085db0-32b3-4f3e-be85-cd8815b18891",
   "metadata": {},
   "source": [
    "##### <font color='blue'><u>**PRESENTATION RESUMEE :**</u></font>   \n",
    "\n",
    "<u>**ENTREPRISE :**</u>   \n",
    "**Nom :** l’Organisation nationale de lutte contre le faux-monnayage (ONCFM)  \n",
    "**Secteur :** Organisation publique  \n",
    "**Activité :** Identification des contrefaçons de billets en euros    \n",
    "\n",
    "<u>**BESOIN :**</u>  \n",
    "mettre à disposition des équipes un algorithme capable de faire une prédiction sur la nature des billets (vrai billet ou faux billet).  \n",
    "\n",
    "<u>**Objectif :**</u>  \n",
    "-\tMettre en place application de machine learning  \n",
    "-\trespectant le cahier des charges fourni, notamment  \n",
    "-\tEntrée : caractéristiques géométriques d’un billet  \n",
    "-\tSortie : authenticité d’un billet  \n"
   ]
  },
  {
   "cell_type": "markdown",
   "id": "c7e08a40-1f10-4eba-91a3-f9f739998ee1",
   "metadata": {},
   "source": [
    "##### <font color='blue'><u>**PRESENTATION DETAILLEE :**</u></font>   \n",
    "\n",
    "<u>**Contexte :**</u>  \n",
    "\n",
    "Dans le cadre de ses actions de lutte contre la contrefaçon, l’**Organisation nationale de lutte contre le faux-monnayage (ONCFM)** souhaite automatiser la détection des faux billets à partir de caractéristiques géométriques mesurées lors du passage en machine.\n",
    "\n",
    "L’ONCFM a confié à notre entreprise le développement d’un **prototype de modèle prédictif** permettant de distinguer automatiquement les vrais billets des faux.  \n",
    "Cette détection repose exclusivement sur des données quantitatives relatives à la forme du billet (longueur, hauteur, marges, diagonale...).\n",
    "\n",
    "<u>**Objectif de la mission :**</u>  \n",
    "\n",
    "En tant que **Data Analyst en charge du projet**, ma mission consiste à :\n",
    "\n",
    "- Réaliser une **analyse exploratoire** des données fournies (1500 billets : 1000 vrais et 500 faux) ;\n",
    "- Appliquer différents **modèles de machine learning supervisés et non supervisés** (logistic regression, K-means, KNN, random forest) pour évaluer leur capacité de détection ;\n",
    "- Mettre en place un **prototype d'application fonctionnelle** capable de prédire la nature d’un billet à partir de ses caractéristiques ;\n",
    "- Documenter les résultats et **justifier le choix du modèle final** retenu, selon sa robustesse, sa performance et sa facilité d'interprétation ;\n",
    "- Proposer des recommandations métier à l’ONCFM pour l’usage opérationnel de l’outil.\n",
    "\n",
    "<u>**Données :**</u>  \n",
    "\n",
    "Le fichier fourni contient les caractéristiques suivantes pour chaque billet :\n",
    "- `length` : longueur (mm)\n",
    "- `height_left` : hauteur côté gauche (mm)\n",
    "- `height_right` : hauteur côté droit (mm)\n",
    "- `margin_up` : marge supérieure (mm)\n",
    "- `margin_low` : marge inférieure (mm)\n",
    "- `diagonal` : diagonale (mm)\n",
    "- `is_genuine` : étiquette indiquant si le billet est un vrai (1) ou un faux (0)\n",
    "\n",
    "---\n",
    "\n",
    "L’approche adoptée sera documentée pas à pas dans ce Notebook, depuis l’analyse initiale jusqu’au choix du modèle final.\n"
   ]
  },
  {
   "cell_type": "markdown",
   "id": "5ea17179-06aa-4093-8453-836ff4379da2",
   "metadata": {},
   "source": [
    "<div style=\"background-color: RGB(51,165,182);\" >\n",
    "<h2 style=\"margin: auto; padding: 20px; color:#fff; \">Etape 1 - Import des librairies et chargement des fichiers</h2>\n",
    "</div>"
   ]
  },
  {
   "cell_type": "code",
   "execution_count": null,
   "id": "9ea4efe6-399e-4002-93be-11b6213304ce",
   "metadata": {},
   "outputs": [],
   "source": []
  },
  {
   "cell_type": "markdown",
   "id": "a956c53b-4755-453d-ac07-5d6e8f80001c",
   "metadata": {},
   "source": [
    "<div style=\"border: 1px solid RGB(51,165,182);\" >\n",
    "<h3 style=\"margin: auto; padding: 20px; color: RGB(51,165,182); \">1.1 - Import des librairies</h3>\n",
    "</div>"
   ]
  },
  {
   "cell_type": "code",
   "execution_count": 43,
   "id": "19d8d3c0-96a0-48bb-ab19-799d6c6ba210",
   "metadata": {},
   "outputs": [],
   "source": [
    "#Import de la librairie Numpy\n",
    "import numpy as np"
   ]
  },
  {
   "cell_type": "code",
   "execution_count": 44,
   "id": "3ba141e5-29f0-4419-b397-89f2db45feae",
   "metadata": {},
   "outputs": [],
   "source": [
    "#Import de la librairie Pandas\n",
    "import pandas as pd"
   ]
  },
  {
   "cell_type": "markdown",
   "id": "7d6b4b54-4981-495d-8d29-7f2b597d16e9",
   "metadata": {},
   "source": [
    "<div style=\"border: 1px solid RGB(51,165,182);\" >\n",
    "<h3 style=\"margin: auto; padding: 20px; color: RGB(51,165,182); \">1.2 - Import du modèle entrainé (+choix)et du scaler entrainé </h3>\n",
    "</div>"
   ]
  },
  {
   "cell_type": "code",
   "execution_count": 45,
   "id": "0d98d735-0264-4c82-8122-2cb2de8c08e4",
   "metadata": {},
   "outputs": [],
   "source": [
    "import joblib\n",
    "\n",
    "#IMPORT DU MODEL SELECTIONNE\n",
    "random_forest_model = joblib.load(r\"D:\\BDD\\OCR\\P12\\P12_Sorties\\random_forest_model.pkl\")"
   ]
  },
  {
   "cell_type": "code",
   "execution_count": 46,
   "id": "17b83a30-ce67-4fb4-96ea-3225b65242e4",
   "metadata": {},
   "outputs": [],
   "source": [
    "#OPTION 2 \n",
    "#IMPORT DU MODEL SELECTIONNE\n",
    "regression_Logistique_model = joblib.load(r\"D:\\BDD\\OCR\\P12\\P12_Sorties\\regression_Logistique_model.pkl\")"
   ]
  },
  {
   "cell_type": "markdown",
   "id": "4e653ced-07f7-4353-9c4c-3b185aabfd6c",
   "metadata": {},
   "source": [
    "**CHOIX DU MODELE :**"
   ]
  },
  {
   "cell_type": "code",
   "execution_count": 47,
   "id": "4a9cbcdd-8202-4be8-9d55-7ceff5655a14",
   "metadata": {},
   "outputs": [],
   "source": [
    "#CHOIX DU MODELE :\n",
    "\n",
    "model_final = random_forest_model\n",
    "\n",
    "#model_final = regression_Logistique_model"
   ]
  },
  {
   "cell_type": "markdown",
   "id": "c6f396a5-f457-44bb-b65a-2a6777eb2d5d",
   "metadata": {},
   "source": [
    "**IMPORT du scaler préfitté avec X_train :**"
   ]
  },
  {
   "cell_type": "code",
   "execution_count": 48,
   "id": "515f69c0-5d22-4afc-a5ba-f686a4d2e442",
   "metadata": {},
   "outputs": [],
   "source": [
    "# Chargement du scaler\n",
    "scaler_prefit = joblib.load(r\"D:\\BDD\\OCR\\P12\\P12_Sorties\\standard_scaler_prefit_X_train.pkl\")"
   ]
  },
  {
   "cell_type": "markdown",
   "id": "e6f9b18e-0f20-4736-b894-65120eaf45f2",
   "metadata": {},
   "source": [
    "« Le même StandardScaler, ajusté sur les données d'entraînement initiales, a été enregistré et rechargé dans l'application afin de garantir une standardisation cohérente des nouvelles données. Cela permet d’éviter tout biais introduit par un réajustement sur des données différentes. »"
   ]
  },
  {
   "cell_type": "markdown",
   "id": "5bd3e619-3590-435b-ad66-08aae115fd19",
   "metadata": {},
   "source": [
    "<div style=\"border: 1px solid RGB(51,165,182);\" >\n",
    "<h3 style=\"margin: auto; padding: 20px; color: RGB(51,165,182); \">1.3 - Import du Fichier de Billets à Analyser</h3>\n",
    "</div>"
   ]
  },
  {
   "cell_type": "markdown",
   "id": "405218c2-4272-4899-8d63-6d98af0d64c0",
   "metadata": {},
   "source": [
    "##### <font color='blue'>**Import du fichier billets_production Test**</font>"
   ]
  },
  {
   "cell_type": "code",
   "execution_count": 49,
   "id": "9e22251c-14fd-4ce1-b063-2c2bbb54fcbf",
   "metadata": {},
   "outputs": [
    {
     "data": {
      "text/html": [
       "<div>\n",
       "<style scoped>\n",
       "    .dataframe tbody tr th:only-of-type {\n",
       "        vertical-align: middle;\n",
       "    }\n",
       "\n",
       "    .dataframe tbody tr th {\n",
       "        vertical-align: top;\n",
       "    }\n",
       "\n",
       "    .dataframe thead th {\n",
       "        text-align: right;\n",
       "    }\n",
       "</style>\n",
       "<table border=\"1\" class=\"dataframe\">\n",
       "  <thead>\n",
       "    <tr style=\"text-align: right;\">\n",
       "      <th></th>\n",
       "      <th>diagonal</th>\n",
       "      <th>height_left</th>\n",
       "      <th>height_right</th>\n",
       "      <th>margin_low</th>\n",
       "      <th>margin_up</th>\n",
       "      <th>length</th>\n",
       "      <th>id</th>\n",
       "    </tr>\n",
       "  </thead>\n",
       "  <tbody>\n",
       "    <tr>\n",
       "      <th>0</th>\n",
       "      <td>171.76</td>\n",
       "      <td>104.01</td>\n",
       "      <td>103.54</td>\n",
       "      <td>5.21</td>\n",
       "      <td>3.30</td>\n",
       "      <td>111.42</td>\n",
       "      <td>A_1</td>\n",
       "    </tr>\n",
       "    <tr>\n",
       "      <th>1</th>\n",
       "      <td>171.87</td>\n",
       "      <td>104.17</td>\n",
       "      <td>104.13</td>\n",
       "      <td>6.00</td>\n",
       "      <td>3.31</td>\n",
       "      <td>112.09</td>\n",
       "      <td>A_2</td>\n",
       "    </tr>\n",
       "    <tr>\n",
       "      <th>2</th>\n",
       "      <td>172.00</td>\n",
       "      <td>104.58</td>\n",
       "      <td>104.29</td>\n",
       "      <td>4.99</td>\n",
       "      <td>3.39</td>\n",
       "      <td>111.57</td>\n",
       "      <td>A_3</td>\n",
       "    </tr>\n",
       "    <tr>\n",
       "      <th>3</th>\n",
       "      <td>172.49</td>\n",
       "      <td>104.55</td>\n",
       "      <td>104.34</td>\n",
       "      <td>4.44</td>\n",
       "      <td>3.03</td>\n",
       "      <td>113.20</td>\n",
       "      <td>A_4</td>\n",
       "    </tr>\n",
       "    <tr>\n",
       "      <th>4</th>\n",
       "      <td>171.65</td>\n",
       "      <td>103.63</td>\n",
       "      <td>103.56</td>\n",
       "      <td>3.77</td>\n",
       "      <td>3.16</td>\n",
       "      <td>113.33</td>\n",
       "      <td>A_5</td>\n",
       "    </tr>\n",
       "  </tbody>\n",
       "</table>\n",
       "</div>"
      ],
      "text/plain": [
       "   diagonal  height_left  height_right  margin_low  margin_up  length   id\n",
       "0    171.76       104.01        103.54        5.21       3.30  111.42  A_1\n",
       "1    171.87       104.17        104.13        6.00       3.31  112.09  A_2\n",
       "2    172.00       104.58        104.29        4.99       3.39  111.57  A_3\n",
       "3    172.49       104.55        104.34        4.44       3.03  113.20  A_4\n",
       "4    171.65       103.63        103.56        3.77       3.16  113.33  A_5"
      ]
     },
     "execution_count": 49,
     "metadata": {},
     "output_type": "execute_result"
    }
   ],
   "source": [
    "#Import du fichier billets Test\n",
    "df_billets_production_Test = pd.read_csv(r\"D:\\BDD\\OCR\\P12\\P12_original\\billets_production.csv\", sep = ',')\n",
    "df_billets_production_Test.head()"
   ]
  },
  {
   "cell_type": "markdown",
   "id": "bc9935b9-f967-42f0-bbc7-00d2e3a9b7fc",
   "metadata": {},
   "source": [
    "##### <font color='blue'>**Import du fichier billets_production Soutenance**</font>  \n",
    "<font color ='orange'>**CHEMIN A COMPLETER LORS DE LA SOUTENANCE**</font>"
   ]
  },
  {
   "cell_type": "code",
   "execution_count": 50,
   "id": "305d7416-1a53-402d-b08c-47b941fd9684",
   "metadata": {},
   "outputs": [],
   "source": [
    "#Import du fichier billets Soutenance\n",
    "\n",
    "#EN ATTENTE DU FICHIER/CHEMIN A REMPLIR : fichier à déposer dans D:\\BDD\\OCR\\P12\\P12_Soutenance\\\n",
    "\n",
    "#df_billets_production_Soutenance = pd.read_csv(r\"D:\\BDD\\OCR\\P12\\P12_Soutenance\\_NOM_FICHIER_.csv\", sep = ',')\n",
    "\n",
    "#df_billets_production_Soutenance = pd.read_csv(r\"D:\\BDD\\OCR\\P12\\P12_original\\billets_test_blanc.csv\", sep = ',')"
   ]
  },
  {
   "cell_type": "markdown",
   "id": "d14f9e64-1d5b-49e8-9cd0-13afe6ed3352",
   "metadata": {},
   "source": [
    "##### **CHOIX DU FICHIER A TESTER**  \n",
    "<font color ='orange'>**CHOIX A MODIFIER LORS DE LA SOUTENANCE**</font>"
   ]
  },
  {
   "cell_type": "code",
   "execution_count": 51,
   "id": "a291fb5b-1578-44a9-8af6-afdfc4cb43ce",
   "metadata": {},
   "outputs": [],
   "source": [
    "#CHOIX DU FICHIER A TESTER\n",
    "\n",
    "df_a_tester = df_billets_production_Test.copy(deep=True)\n",
    "\n",
    "#df_a_tester = df_billets_production_Soutenance.copy(deep=True)"
   ]
  },
  {
   "cell_type": "markdown",
   "id": "e5ed255f-4fc0-42e5-b0a2-811a8e956a80",
   "metadata": {},
   "source": [
    "<div style=\"background-color: RGB(51,165,182);\" >\n",
    "<h2 style=\"margin: auto; padding: 20px; color:#fff; \">Etape 2 - Elaboration des Résultats :</h2>\n",
    "</div>"
   ]
  },
  {
   "cell_type": "markdown",
   "id": "6294615c-50a1-4d0b-a439-c39336660473",
   "metadata": {},
   "source": [
    "<div style=\"border: 1px solid RGB(51,165,182);\" >\n",
    "<h3 style=\"margin: auto; padding: 20px; color: RGB(51,165,182); \">2.1 -  Préparation des données TEST : </h3>\n",
    "</div>"
   ]
  },
  {
   "cell_type": "code",
   "execution_count": 52,
   "id": "a182a6ff-268a-4188-b32a-854077afb7ea",
   "metadata": {},
   "outputs": [],
   "source": [
    "from sklearn.preprocessing import StandardScaler\n",
    "from sklearn.model_selection import train_test_split\n",
    "\n",
    "#listes des variables prédictives pour le modèle RL_final : toutes les var quantitatives\n",
    "var_pred = ['diagonal',\n",
    "            'height_left', 'height_right', \n",
    "            'margin_low','margin_up', \n",
    "            'length']\n",
    "#la variable cible :\n",
    "var_cible = 'is_genuine'\n",
    "\n",
    "#le jeu de données prédictif complet:\n",
    "X_test = (df_a_tester[var_pred]).copy(deep=True)"
   ]
  },
  {
   "cell_type": "code",
   "execution_count": 53,
   "id": "8cf93936-26d9-410f-b97a-dfad37bd56e1",
   "metadata": {},
   "outputs": [
    {
     "name": "stdout",
     "output_type": "stream",
     "text": [
      "   diagonal  height_left  height_right  margin_low  margin_up  length\n",
      "0    171.76       104.01        103.54        5.21       3.30  111.42\n",
      "1    171.87       104.17        104.13        6.00       3.31  112.09\n",
      "2    172.00       104.58        104.29        4.99       3.39  111.57\n",
      "3    172.49       104.55        104.34        4.44       3.03  113.20\n",
      "4    171.65       103.63        103.56        3.77       3.16  113.33\n"
     ]
    }
   ],
   "source": [
    "print(X_test)"
   ]
  },
  {
   "cell_type": "markdown",
   "id": "138c9316-9ddd-4397-bb92-57b2a40b1316",
   "metadata": {},
   "source": [
    "**standardisation des données tests avec le scaler prefitté et entrainé avec X_train utilisé pour le modèle dans le NB1**"
   ]
  },
  {
   "cell_type": "code",
   "execution_count": 54,
   "id": "55ba34cd-c2f2-452f-9fc9-f259eb04e033",
   "metadata": {},
   "outputs": [],
   "source": [
    "#standardisation des données avec le scaler prefitté\n",
    "X_test_scaled = scaler_prefit.transform(X_test)"
   ]
  },
  {
   "cell_type": "code",
   "execution_count": 55,
   "id": "315b4bf4-c537-4859-b584-0306c4de5d6b",
   "metadata": {},
   "outputs": [
    {
     "name": "stdout",
     "output_type": "stream",
     "text": [
      "[[-0.64127206 -0.06756023 -1.164697    1.1207046   0.64330831 -1.44521223]\n",
      " [-0.2833225   0.46384348  0.64384665  2.31990014  0.68646406 -0.68281745]\n",
      " [ 0.1397088   1.82556548  1.13429916  0.78675141  1.03171002 -1.27452683]\n",
      " [ 1.73421139  1.72592728  1.28756558 -0.04813156 -0.52189681  0.58025449]\n",
      " [-0.99922162 -1.32964404 -1.10339044 -1.06517081  0.03912788  0.72818184]]\n"
     ]
    }
   ],
   "source": [
    "print(X_test_scaled)"
   ]
  },
  {
   "cell_type": "markdown",
   "id": "63d25cde-a698-48ef-a4f2-b531121ca56a",
   "metadata": {},
   "source": [
    "<div style=\"border: 1px solid RGB(51,165,182);\" >\n",
    "<h3 style=\"margin: auto; padding: 20px; color: RGB(51,165,182); \">2.2 -  Prédictions & Probabilités : </h3>\n",
    "</div>"
   ]
  },
  {
   "cell_type": "code",
   "execution_count": 56,
   "id": "6e511df2-9172-4a1b-be87-fd408813bbb3",
   "metadata": {},
   "outputs": [],
   "source": [
    "y_test_pred = model_final.predict(X_test_scaled)"
   ]
  },
  {
   "cell_type": "code",
   "execution_count": 57,
   "id": "82a4172a-6c1f-4026-99e5-31075d63196f",
   "metadata": {},
   "outputs": [
    {
     "name": "stdout",
     "output_type": "stream",
     "text": [
      "[0 0 0 1 1]\n"
     ]
    }
   ],
   "source": [
    "print(y_test_pred)"
   ]
  },
  {
   "cell_type": "code",
   "execution_count": 58,
   "id": "fbec0cf8-4d03-4091-b4b2-584de1c4302e",
   "metadata": {},
   "outputs": [],
   "source": [
    "# Probabilités (classe 1)\n",
    "y_test_proba = model_final.predict_proba(X_test_scaled)[:, 1]"
   ]
  },
  {
   "cell_type": "code",
   "execution_count": 59,
   "id": "7abe7f67-f623-4dc8-bd17-aa6c8b7fc1e1",
   "metadata": {},
   "outputs": [
    {
     "name": "stdout",
     "output_type": "stream",
     "text": [
      "[0.012 0.    0.    0.982 1.   ]\n"
     ]
    }
   ],
   "source": [
    "print(y_test_proba)"
   ]
  },
  {
   "cell_type": "markdown",
   "id": "ae7f5909-f550-4b5e-bef6-dd9df2ddacc8",
   "metadata": {},
   "source": [
    "<div style=\"border: 1px solid RGB(51,165,182);\" >\n",
    "<h3 style=\"margin: auto; padding: 20px; color: RGB(51,165,182); \">2.3 -  ELABORATION DU RESULTAT : </h3>\n",
    "</div>"
   ]
  },
  {
   "cell_type": "code",
   "execution_count": 60,
   "id": "c4892611-3f20-46ea-82b4-c2c7c7fd88ff",
   "metadata": {},
   "outputs": [],
   "source": [
    "df_resultat = df_a_tester.copy(deep=True)"
   ]
  },
  {
   "cell_type": "code",
   "execution_count": 61,
   "id": "67b53ce6-22d8-4753-a57a-566d8090e1e5",
   "metadata": {},
   "outputs": [
    {
     "data": {
      "text/html": [
       "<div>\n",
       "<style scoped>\n",
       "    .dataframe tbody tr th:only-of-type {\n",
       "        vertical-align: middle;\n",
       "    }\n",
       "\n",
       "    .dataframe tbody tr th {\n",
       "        vertical-align: top;\n",
       "    }\n",
       "\n",
       "    .dataframe thead th {\n",
       "        text-align: right;\n",
       "    }\n",
       "</style>\n",
       "<table border=\"1\" class=\"dataframe\">\n",
       "  <thead>\n",
       "    <tr style=\"text-align: right;\">\n",
       "      <th></th>\n",
       "      <th>0</th>\n",
       "    </tr>\n",
       "  </thead>\n",
       "  <tbody>\n",
       "    <tr>\n",
       "      <th>0</th>\n",
       "      <td>False</td>\n",
       "    </tr>\n",
       "    <tr>\n",
       "      <th>1</th>\n",
       "      <td>False</td>\n",
       "    </tr>\n",
       "    <tr>\n",
       "      <th>2</th>\n",
       "      <td>False</td>\n",
       "    </tr>\n",
       "    <tr>\n",
       "      <th>3</th>\n",
       "      <td>True</td>\n",
       "    </tr>\n",
       "    <tr>\n",
       "      <th>4</th>\n",
       "      <td>True</td>\n",
       "    </tr>\n",
       "  </tbody>\n",
       "</table>\n",
       "</div>"
      ],
      "text/plain": [
       "       0\n",
       "0  False\n",
       "1  False\n",
       "2  False\n",
       "3   True\n",
       "4   True"
      ]
     },
     "execution_count": 61,
     "metadata": {},
     "output_type": "execute_result"
    }
   ],
   "source": [
    "pd.DataFrame(y_test_pred).astype(bool)"
   ]
  },
  {
   "cell_type": "code",
   "execution_count": 62,
   "id": "55152e39-cc01-4bd6-af67-1b096b8ed512",
   "metadata": {},
   "outputs": [],
   "source": [
    "df_resultat['Authenticité'] = pd.DataFrame(y_test_pred).astype(bool)\n",
    "df_resultat['Auth_Proba_%'] = (pd.DataFrame(y_test_proba))*100"
   ]
  },
  {
   "cell_type": "code",
   "execution_count": 63,
   "id": "595ed6c6-0839-4d9c-80ab-ba75ad65cb08",
   "metadata": {},
   "outputs": [
    {
     "data": {
      "text/html": [
       "<div>\n",
       "<style scoped>\n",
       "    .dataframe tbody tr th:only-of-type {\n",
       "        vertical-align: middle;\n",
       "    }\n",
       "\n",
       "    .dataframe tbody tr th {\n",
       "        vertical-align: top;\n",
       "    }\n",
       "\n",
       "    .dataframe thead th {\n",
       "        text-align: right;\n",
       "    }\n",
       "</style>\n",
       "<table border=\"1\" class=\"dataframe\">\n",
       "  <thead>\n",
       "    <tr style=\"text-align: right;\">\n",
       "      <th></th>\n",
       "      <th>diagonal</th>\n",
       "      <th>height_left</th>\n",
       "      <th>height_right</th>\n",
       "      <th>margin_low</th>\n",
       "      <th>margin_up</th>\n",
       "      <th>length</th>\n",
       "      <th>id</th>\n",
       "      <th>Authenticité</th>\n",
       "      <th>Auth_Proba_%</th>\n",
       "    </tr>\n",
       "  </thead>\n",
       "  <tbody>\n",
       "    <tr>\n",
       "      <th>0</th>\n",
       "      <td>171.76</td>\n",
       "      <td>104.01</td>\n",
       "      <td>103.54</td>\n",
       "      <td>5.21</td>\n",
       "      <td>3.30</td>\n",
       "      <td>111.42</td>\n",
       "      <td>A_1</td>\n",
       "      <td>False</td>\n",
       "      <td>1.2</td>\n",
       "    </tr>\n",
       "    <tr>\n",
       "      <th>1</th>\n",
       "      <td>171.87</td>\n",
       "      <td>104.17</td>\n",
       "      <td>104.13</td>\n",
       "      <td>6.00</td>\n",
       "      <td>3.31</td>\n",
       "      <td>112.09</td>\n",
       "      <td>A_2</td>\n",
       "      <td>False</td>\n",
       "      <td>0.0</td>\n",
       "    </tr>\n",
       "    <tr>\n",
       "      <th>2</th>\n",
       "      <td>172.00</td>\n",
       "      <td>104.58</td>\n",
       "      <td>104.29</td>\n",
       "      <td>4.99</td>\n",
       "      <td>3.39</td>\n",
       "      <td>111.57</td>\n",
       "      <td>A_3</td>\n",
       "      <td>False</td>\n",
       "      <td>0.0</td>\n",
       "    </tr>\n",
       "    <tr>\n",
       "      <th>3</th>\n",
       "      <td>172.49</td>\n",
       "      <td>104.55</td>\n",
       "      <td>104.34</td>\n",
       "      <td>4.44</td>\n",
       "      <td>3.03</td>\n",
       "      <td>113.20</td>\n",
       "      <td>A_4</td>\n",
       "      <td>True</td>\n",
       "      <td>98.2</td>\n",
       "    </tr>\n",
       "    <tr>\n",
       "      <th>4</th>\n",
       "      <td>171.65</td>\n",
       "      <td>103.63</td>\n",
       "      <td>103.56</td>\n",
       "      <td>3.77</td>\n",
       "      <td>3.16</td>\n",
       "      <td>113.33</td>\n",
       "      <td>A_5</td>\n",
       "      <td>True</td>\n",
       "      <td>100.0</td>\n",
       "    </tr>\n",
       "  </tbody>\n",
       "</table>\n",
       "</div>"
      ],
      "text/plain": [
       "   diagonal  height_left  height_right  margin_low  margin_up  length   id  \\\n",
       "0    171.76       104.01        103.54        5.21       3.30  111.42  A_1   \n",
       "1    171.87       104.17        104.13        6.00       3.31  112.09  A_2   \n",
       "2    172.00       104.58        104.29        4.99       3.39  111.57  A_3   \n",
       "3    172.49       104.55        104.34        4.44       3.03  113.20  A_4   \n",
       "4    171.65       103.63        103.56        3.77       3.16  113.33  A_5   \n",
       "\n",
       "   Authenticité  Auth_Proba_%  \n",
       "0         False           1.2  \n",
       "1         False           0.0  \n",
       "2         False           0.0  \n",
       "3          True          98.2  \n",
       "4          True         100.0  "
      ]
     },
     "execution_count": 63,
     "metadata": {},
     "output_type": "execute_result"
    }
   ],
   "source": [
    "df_resultat.head()"
   ]
  },
  {
   "cell_type": "markdown",
   "id": "10407caa-364f-4053-85a4-0e055081efcb",
   "metadata": {},
   "source": [
    "<div style=\"background-color: RGB(51,165,182);\" >\n",
    "<h2 style=\"margin: auto; padding: 20px; color:#fff; \">Etape 3 - AFFICHAGE DU RESULTAT </h2>\n",
    "</div>"
   ]
  },
  {
   "cell_type": "code",
   "execution_count": 64,
   "id": "032f2e8e-7958-4af9-aabe-7a98b544efea",
   "metadata": {},
   "outputs": [
    {
     "name": "stdout",
     "output_type": "stream",
     "text": [
      "RESULTAT SIMPLE :\n"
     ]
    },
    {
     "data": {
      "text/html": [
       "<div>\n",
       "<style scoped>\n",
       "    .dataframe tbody tr th:only-of-type {\n",
       "        vertical-align: middle;\n",
       "    }\n",
       "\n",
       "    .dataframe tbody tr th {\n",
       "        vertical-align: top;\n",
       "    }\n",
       "\n",
       "    .dataframe thead th {\n",
       "        text-align: right;\n",
       "    }\n",
       "</style>\n",
       "<table border=\"1\" class=\"dataframe\">\n",
       "  <thead>\n",
       "    <tr style=\"text-align: right;\">\n",
       "      <th></th>\n",
       "      <th>id</th>\n",
       "      <th>Authenticité</th>\n",
       "      <th>Auth_Proba_%</th>\n",
       "    </tr>\n",
       "  </thead>\n",
       "  <tbody>\n",
       "    <tr>\n",
       "      <th>0</th>\n",
       "      <td>A_1</td>\n",
       "      <td>False</td>\n",
       "      <td>1.2</td>\n",
       "    </tr>\n",
       "    <tr>\n",
       "      <th>1</th>\n",
       "      <td>A_2</td>\n",
       "      <td>False</td>\n",
       "      <td>0.0</td>\n",
       "    </tr>\n",
       "    <tr>\n",
       "      <th>2</th>\n",
       "      <td>A_3</td>\n",
       "      <td>False</td>\n",
       "      <td>0.0</td>\n",
       "    </tr>\n",
       "    <tr>\n",
       "      <th>3</th>\n",
       "      <td>A_4</td>\n",
       "      <td>True</td>\n",
       "      <td>98.2</td>\n",
       "    </tr>\n",
       "    <tr>\n",
       "      <th>4</th>\n",
       "      <td>A_5</td>\n",
       "      <td>True</td>\n",
       "      <td>100.0</td>\n",
       "    </tr>\n",
       "  </tbody>\n",
       "</table>\n",
       "</div>"
      ],
      "text/plain": [
       "    id  Authenticité  Auth_Proba_%\n",
       "0  A_1         False           1.2\n",
       "1  A_2         False           0.0\n",
       "2  A_3         False           0.0\n",
       "3  A_4          True          98.2\n",
       "4  A_5          True         100.0"
      ]
     },
     "metadata": {},
     "output_type": "display_data"
    }
   ],
   "source": [
    "print(\"RESULTAT SIMPLE :\")\n",
    "display(df_resultat[['id','Authenticité', 'Auth_Proba_%']])"
   ]
  },
  {
   "cell_type": "code",
   "execution_count": 65,
   "id": "206cf613-1e8b-4f9a-999b-d4a92fdd2245",
   "metadata": {},
   "outputs": [
    {
     "name": "stdout",
     "output_type": "stream",
     "text": [
      "RESULTAT COMPLETS :\n"
     ]
    },
    {
     "data": {
      "text/html": [
       "<div>\n",
       "<style scoped>\n",
       "    .dataframe tbody tr th:only-of-type {\n",
       "        vertical-align: middle;\n",
       "    }\n",
       "\n",
       "    .dataframe tbody tr th {\n",
       "        vertical-align: top;\n",
       "    }\n",
       "\n",
       "    .dataframe thead th {\n",
       "        text-align: right;\n",
       "    }\n",
       "</style>\n",
       "<table border=\"1\" class=\"dataframe\">\n",
       "  <thead>\n",
       "    <tr style=\"text-align: right;\">\n",
       "      <th></th>\n",
       "      <th>diagonal</th>\n",
       "      <th>height_left</th>\n",
       "      <th>height_right</th>\n",
       "      <th>margin_low</th>\n",
       "      <th>margin_up</th>\n",
       "      <th>length</th>\n",
       "      <th>id</th>\n",
       "      <th>Authenticité</th>\n",
       "      <th>Auth_Proba_%</th>\n",
       "    </tr>\n",
       "  </thead>\n",
       "  <tbody>\n",
       "    <tr>\n",
       "      <th>0</th>\n",
       "      <td>171.76</td>\n",
       "      <td>104.01</td>\n",
       "      <td>103.54</td>\n",
       "      <td>5.21</td>\n",
       "      <td>3.30</td>\n",
       "      <td>111.42</td>\n",
       "      <td>A_1</td>\n",
       "      <td>False</td>\n",
       "      <td>1.2</td>\n",
       "    </tr>\n",
       "    <tr>\n",
       "      <th>1</th>\n",
       "      <td>171.87</td>\n",
       "      <td>104.17</td>\n",
       "      <td>104.13</td>\n",
       "      <td>6.00</td>\n",
       "      <td>3.31</td>\n",
       "      <td>112.09</td>\n",
       "      <td>A_2</td>\n",
       "      <td>False</td>\n",
       "      <td>0.0</td>\n",
       "    </tr>\n",
       "    <tr>\n",
       "      <th>2</th>\n",
       "      <td>172.00</td>\n",
       "      <td>104.58</td>\n",
       "      <td>104.29</td>\n",
       "      <td>4.99</td>\n",
       "      <td>3.39</td>\n",
       "      <td>111.57</td>\n",
       "      <td>A_3</td>\n",
       "      <td>False</td>\n",
       "      <td>0.0</td>\n",
       "    </tr>\n",
       "    <tr>\n",
       "      <th>3</th>\n",
       "      <td>172.49</td>\n",
       "      <td>104.55</td>\n",
       "      <td>104.34</td>\n",
       "      <td>4.44</td>\n",
       "      <td>3.03</td>\n",
       "      <td>113.20</td>\n",
       "      <td>A_4</td>\n",
       "      <td>True</td>\n",
       "      <td>98.2</td>\n",
       "    </tr>\n",
       "    <tr>\n",
       "      <th>4</th>\n",
       "      <td>171.65</td>\n",
       "      <td>103.63</td>\n",
       "      <td>103.56</td>\n",
       "      <td>3.77</td>\n",
       "      <td>3.16</td>\n",
       "      <td>113.33</td>\n",
       "      <td>A_5</td>\n",
       "      <td>True</td>\n",
       "      <td>100.0</td>\n",
       "    </tr>\n",
       "  </tbody>\n",
       "</table>\n",
       "</div>"
      ],
      "text/plain": [
       "   diagonal  height_left  height_right  margin_low  margin_up  length   id  \\\n",
       "0    171.76       104.01        103.54        5.21       3.30  111.42  A_1   \n",
       "1    171.87       104.17        104.13        6.00       3.31  112.09  A_2   \n",
       "2    172.00       104.58        104.29        4.99       3.39  111.57  A_3   \n",
       "3    172.49       104.55        104.34        4.44       3.03  113.20  A_4   \n",
       "4    171.65       103.63        103.56        3.77       3.16  113.33  A_5   \n",
       "\n",
       "   Authenticité  Auth_Proba_%  \n",
       "0         False           1.2  \n",
       "1         False           0.0  \n",
       "2         False           0.0  \n",
       "3          True          98.2  \n",
       "4          True         100.0  "
      ]
     },
     "metadata": {},
     "output_type": "display_data"
    }
   ],
   "source": [
    "print(\"RESULTAT COMPLETS :\")\n",
    "display(df_resultat)"
   ]
  },
  {
   "cell_type": "markdown",
   "id": "b0d71bae-569b-47ff-9857-1410477352a0",
   "metadata": {},
   "source": [
    "<div style=\"background-color: RGB(51,165,182);\" >\n",
    "<h2 style=\"margin: auto; padding: 20px; color:#fff; \">Etape 4 - EXPORT DES RESULTATS  </h2>\n",
    "</div>"
   ]
  },
  {
   "cell_type": "code",
   "execution_count": 66,
   "id": "2b001dca-b088-4567-86e4-679f897ee6eb",
   "metadata": {},
   "outputs": [],
   "source": [
    "#EXPORT DES RESULTATS :\n",
    "\n",
    "df_resultat.to_csv(r\"D:\\BDD\\OCR\\P12\\P12_Sorties\\Resultats_Authenticite_AAMMDDHHMM.csv\",index=False)"
   ]
  },
  {
   "cell_type": "raw",
   "id": "1435b9f0-bbe8-457e-98c6-23be76ec6b4b",
   "metadata": {},
   "source": [
    "#EXPORT DES RESULTATS  avec Timestamp\n",
    "import os\n",
    "from datetime import datetime\n",
    "\n",
    "# Génération du timestamp au format AAMMJJHHMM\n",
    "timestamp = datetime.now().strftime(\"%y%m%d%H%M\")\n",
    "\n",
    "# Dossier où tu veux enregistrer le fichier\n",
    "chemin_dossier = r\"D:\\BDD\\OCR\\P12\\P12_Sorties\"\n",
    "\n",
    "# Nom de fichier avec timestamp\n",
    "nom_fichier = f\"Resultats_Authenticite_{timestamp}.csv\"\n",
    "\n",
    "# Construction du chemin complet\n",
    "chemin_complet = os.path.join(chemin_dossier, nom_fichier)\n",
    "\n",
    "# Export CSV\n",
    "df_resultat.to_csv(chemin_complet, index=False)\n",
    "\n",
    "print(f\"✅ Résultats exportés dans : {chemin_complet}\")"
   ]
  },
  {
   "cell_type": "code",
   "execution_count": null,
   "id": "90937e9b-e627-46b9-995b-f78942c3b935",
   "metadata": {},
   "outputs": [],
   "source": []
  }
 ],
 "metadata": {
  "kernelspec": {
   "display_name": "Python 3 (ipykernel)",
   "language": "python",
   "name": "python3"
  },
  "language_info": {
   "codemirror_mode": {
    "name": "ipython",
    "version": 3
   },
   "file_extension": ".py",
   "mimetype": "text/x-python",
   "name": "python",
   "nbconvert_exporter": "python",
   "pygments_lexer": "ipython3",
   "version": "3.12.4"
  }
 },
 "nbformat": 4,
 "nbformat_minor": 5
}
